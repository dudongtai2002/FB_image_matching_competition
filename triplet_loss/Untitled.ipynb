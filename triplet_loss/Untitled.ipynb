{
 "cells": [
  {
   "cell_type": "code",
   "execution_count": 2,
   "id": "6386dc88-a751-4ba3-9708-44032a37372c",
   "metadata": {},
   "outputs": [],
   "source": [
    "import torch\n",
    "import torch.nn as nn"
   ]
  },
  {
   "cell_type": "code",
   "execution_count": 6,
   "id": "be08508c-290a-489a-a4a3-7844b1ae5a85",
   "metadata": {},
   "outputs": [
    {
     "data": {
      "text/plain": [
       "tensor([[-1.2069, -2.0828, -0.0073],\n",
       "        [ 1.3928, -0.2102, -0.7780]])"
      ]
     },
     "execution_count": 6,
     "metadata": {},
     "output_type": "execute_result"
    }
   ],
   "source": [
    "a = torch.randn(2,3)\n",
    "a"
   ]
  },
  {
   "cell_type": "code",
   "execution_count": 9,
   "id": "78ae40d5-2ae7-4658-8f9d-bd0034e7e376",
   "metadata": {},
   "outputs": [
    {
     "data": {
      "text/plain": [
       "tensor([[-3.2970],\n",
       "        [ 0.4046]])"
      ]
     },
     "execution_count": 9,
     "metadata": {},
     "output_type": "execute_result"
    }
   ],
   "source": [
    "a.sum(dim=1, keepdim=True)"
   ]
  },
  {
   "cell_type": "code",
   "execution_count": null,
   "id": "d5d3b40a-1b5e-409b-b1b1-bab26e2e954e",
   "metadata": {},
   "outputs": [],
   "source": [
    "from tqdm import tqdm\n",
    "from time import sleep\n",
    "for i in tqdm(range(10000)):\n",
    "     sleep(0.01)"
   ]
  },
  {
   "cell_type": "code",
   "execution_count": null,
   "id": "afb364df-f3cd-4d37-b957-a267c72f7fce",
   "metadata": {},
   "outputs": [],
   "source": [
    "import pandas as pd\n",
    "\n",
    "pd.read_csv()"
   ]
  },
  {
   "cell_type": "code",
   "execution_count": 26,
   "id": "94356617-4f29-4a92-9bda-72cb1c6190d3",
   "metadata": {},
   "outputs": [],
   "source": [
    "a = torch.as_tensor([1,2,3,4])\n",
    "b = torch.as_tensor([[1,0,2], [1,0,2], [1,0,2], [1,0,2]])"
   ]
  },
  {
   "cell_type": "code",
   "execution_count": 78,
   "id": "43d23b67-790b-4224-a4bd-98b9b864c0ff",
   "metadata": {},
   "outputs": [
    {
     "data": {
      "text/plain": [
       "(tensor([0, 0, 1, 1, 1, 2, 2, 2, 3, 3, 3]),\n",
       " tensor([0, 1, 0, 1, 2, 0, 1, 2, 0, 1, 2]))"
      ]
     },
     "execution_count": 78,
     "metadata": {},
     "output_type": "execute_result"
    }
   ],
   "source": [
    "import numpy as np\n",
    "condition = (b - a[:, None] < 1)\n",
    "valid_triplets = torch.where(condition == 1)\n",
    "valid_triplets"
   ]
  },
  {
   "cell_type": "code",
   "execution_count": 79,
   "id": "e4b35c70-ff3f-41d8-81b1-55bce6c8c9f0",
   "metadata": {},
   "outputs": [
    {
     "data": {
      "text/plain": [
       "tensor([1, 1, 2, 2, 2, 3, 3, 3, 4, 4, 4])"
      ]
     },
     "execution_count": 79,
     "metadata": {},
     "output_type": "execute_result"
    }
   ],
   "source": [
    "(a[:, None] - b + b)[valid_triplets]"
   ]
  },
  {
   "cell_type": "code",
   "execution_count": 71,
   "id": "5dd9ac98-d786-4f74-b2db-359711a19cba",
   "metadata": {},
   "outputs": [
    {
     "data": {
      "text/plain": [
       "tensor([[1, 1, 1],\n",
       "        [2, 2, 2],\n",
       "        [3, 3, 3],\n",
       "        [4, 4, 4]])"
      ]
     },
     "execution_count": 71,
     "metadata": {},
     "output_type": "execute_result"
    }
   ],
   "source": [
    "a[:,None].repeat_interleave(3,1)"
   ]
  },
  {
   "cell_type": "code",
   "execution_count": 67,
   "id": "363fb0bd-c61c-4736-83ba-a19000852810",
   "metadata": {},
   "outputs": [
    {
     "data": {
      "text/plain": [
       "tensor([[1, 1, 1],\n",
       "        [2, 2, 2],\n",
       "        [3, 3, 3],\n",
       "        [4, 4, 4]])"
      ]
     },
     "execution_count": 67,
     "metadata": {},
     "output_type": "execute_result"
    }
   ],
   "source": [
    "(a[:, None] - b + b)"
   ]
  },
  {
   "cell_type": "code",
   "execution_count": 69,
   "id": "4edfaa2b-c5ec-440c-a311-1a722e08e4b2",
   "metadata": {},
   "outputs": [
    {
     "data": {
      "text/plain": [
       "tensor([[1],\n",
       "        [2],\n",
       "        [3],\n",
       "        [4]])"
      ]
     },
     "execution_count": 69,
     "metadata": {},
     "output_type": "execute_result"
    }
   ],
   "source": [
    "a[:,None]"
   ]
  },
  {
   "cell_type": "code",
   "execution_count": 74,
   "id": "8b4f9eac-32ba-4ca9-817e-612bb8e2c6c4",
   "metadata": {},
   "outputs": [],
   "source": [
    "indexes = (a[:, None] - b + b)[valid_triplets]"
   ]
  },
  {
   "cell_type": "code",
   "execution_count": 80,
   "id": "dda0ad0f-8542-493b-b1b9-5d0fefa3cdd1",
   "metadata": {},
   "outputs": [
    {
     "data": {
      "text/plain": [
       "tensor([1, 1, 2, 2, 2, 3, 3, 3, 4, 4, 4])"
      ]
     },
     "execution_count": 80,
     "metadata": {},
     "output_type": "execute_result"
    }
   ],
   "source": [
    "a[valid_triplets[0]]"
   ]
  },
  {
   "cell_type": "code",
   "execution_count": 85,
   "id": "15fc4ce5-ba17-4f9f-8a73-168a7cf30fdc",
   "metadata": {},
   "outputs": [
    {
     "data": {
      "text/plain": [
       "tensor(2., dtype=torch.float64)"
      ]
     },
     "execution_count": 85,
     "metadata": {},
     "output_type": "execute_result"
    }
   ],
   "source": [
    "torch.dist(a.double(),torch.as_tensor([2,3,4,5]).double())"
   ]
  },
  {
   "cell_type": "code",
   "execution_count": 89,
   "id": "09b6246b-7f84-4093-a60f-60cd64eb9c7f",
   "metadata": {},
   "outputs": [],
   "source": [
    "n = torch.nn.functional.normalize(torch.as_tensor([[1,2,3,4]]).double())"
   ]
  },
  {
   "cell_type": "code",
   "execution_count": 91,
   "id": "22406633-f5bd-4be7-93ba-3ae0d0a90717",
   "metadata": {},
   "outputs": [
    {
     "data": {
      "text/plain": [
       "tensor(1.0000, dtype=torch.float64)"
      ]
     },
     "execution_count": 91,
     "metadata": {},
     "output_type": "execute_result"
    }
   ],
   "source": [
    "torch.dist(n[0], torch.as_tensor([0,0,0,0]).double())"
   ]
  },
  {
   "cell_type": "code",
   "execution_count": null,
   "id": "9b6024cb-b733-41a1-96e0-d0c51122fe75",
   "metadata": {},
   "outputs": [],
   "source": [
    "torch.as_tensor"
   ]
  }
 ],
 "metadata": {
  "kernelspec": {
   "display_name": "Python 3",
   "language": "python",
   "name": "python3"
  },
  "language_info": {
   "codemirror_mode": {
    "name": "ipython",
    "version": 3
   },
   "file_extension": ".py",
   "mimetype": "text/x-python",
   "name": "python",
   "nbconvert_exporter": "python",
   "pygments_lexer": "ipython3",
   "version": "3.8.8"
  }
 },
 "nbformat": 4,
 "nbformat_minor": 5
}
